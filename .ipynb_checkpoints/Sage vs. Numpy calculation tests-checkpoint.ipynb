{
 "cells": [
  {
   "cell_type": "code",
   "execution_count": 1,
   "metadata": {},
   "outputs": [
    {
     "data": {
      "text/html": [
       "<html><script type=\"math/tex; mode=display\">\\newcommand{\\Bold}[1]{\\mathbf{#1}}\\left[0.540302305868140, 0.5403023058681398\\right]</script></html>"
      ],
      "text/latex": [
       "$$\\newcommand{\\Bold}[1]{\\mathbf{#1}}\\left[0.540302305868140, 0.5403023058681398\\right]$$"
      ],
      "text/plain": [
       "[0.540302305868140, 0.5403023058681398]"
      ]
     },
     "metadata": {},
     "output_type": "display_data"
    }
   ],
   "source": [
    "import numpy as np\n",
    "\n",
    "x1 = cos(1).n() # Sage/Python standard Cosine function at 1 radian\n",
    "x2 = np.cos(1) # Numpy Cosine function at 1 radian\n",
    "\n",
    "y1 = sin(1).n() # Sage/Python standard Sine function at 1 radian\n",
    "y2 = np.sin(1) # Numpy Sine function at 1 radian\n",
    "\n",
    "L = [x1,x2]\n",
    "\n",
    "show(L)"
   ]
  },
  {
   "cell_type": "code",
   "execution_count": 16,
   "metadata": {},
   "outputs": [
    {
     "data": {
      "text/html": [
       "<html><script type=\"math/tex; mode=display\">\\newcommand{\\Bold}[1]{\\mathbf{#1}}\\left[0.291926581726429, 0.2919265817264289\\right]</script></html>"
      ],
      "text/latex": [
       "$$\\newcommand{\\Bold}[1]{\\mathbf{#1}}\\left[0.291926581726429, 0.2919265817264289\\right]$$"
      ],
      "text/plain": [
       "[0.291926581726429, 0.2919265817264289]"
      ]
     },
     "metadata": {},
     "output_type": "display_data"
    }
   ],
   "source": [
    "M = [x1**2, np.square(x2)] # Sage/Python square function vs. Numpy square function\n",
    "\n",
    "show(M)"
   ]
  },
  {
   "cell_type": "code",
   "execution_count": 18,
   "metadata": {},
   "outputs": [
    {
     "data": {
      "text/html": [
       "<html><script type=\"math/tex; mode=display\">\\newcommand{\\Bold}[1]{\\mathbf{#1}}\\left[0.814477216699512, 0.8144772166995121\\right]</script></html>"
      ],
      "text/latex": [
       "$$\\newcommand{\\Bold}[1]{\\mathbf{#1}}\\left[0.814477216699512, 0.8144772166995121\\right]$$"
      ],
      "text/plain": [
       "[0.814477216699512, 0.8144772166995121]"
      ]
     },
     "metadata": {},
     "output_type": "display_data"
    }
   ],
   "source": [
    "N = [x1**(1/3), np.cbrt(x2)] # Sage/Python cube root function vs. Numpy cube root function.\n",
    "# Observe this is cubic roots of positive numbers.  See below for cubic roots of negative numbers.\n",
    "\n",
    "show(N)"
   ]
  },
  {
   "cell_type": "code",
   "execution_count": 19,
   "metadata": {},
   "outputs": [
    {
     "data": {
      "text/html": [
       "<html><script type=\"math/tex; mode=display\">\\newcommand{\\Bold}[1]{\\mathbf{#1}}\\left[0.358422035314132, 0.3584220353141324\\right]</script></html>"
      ],
      "text/latex": [
       "$$\\newcommand{\\Bold}[1]{\\mathbf{#1}}\\left[0.358422035314132, 0.3584220353141324\\right]$$"
      ],
      "text/plain": [
       "[0.358422035314132, 0.3584220353141324]"
      ]
     },
     "metadata": {},
     "output_type": "display_data"
    }
   ],
   "source": [
    "P = [x1**(5/3), np.power(np.cbrt(x2),5)] # Sage/Python rational power (5/3) vs. Numpy rational power (5/3)\n",
    "\n",
    "show(P)"
   ]
  },
  {
   "cell_type": "code",
   "execution_count": 20,
   "metadata": {},
   "outputs": [
    {
     "data": {
      "text/html": [
       "<html><script type=\"math/tex; mode=display\">\\newcommand{\\Bold}[1]{\\mathbf{#1}}\\left[0.750006871533950, 0.7500068715339497\\right]</script></html>"
      ],
      "text/latex": [
       "$$\\newcommand{\\Bold}[1]{\\mathbf{#1}}\\left[0.750006871533950, 0.7500068715339497\\right]$$"
      ],
      "text/plain": [
       "[0.750006871533950, 0.7500068715339497]"
      ]
     },
     "metadata": {},
     "output_type": "display_data"
    }
   ],
   "source": [
    "Q = [y1**(5/3), np.power(np.cbrt(y2),5)]\n",
    "\n",
    "show(Q)"
   ]
  },
  {
   "cell_type": "code",
   "execution_count": 21,
   "metadata": {},
   "outputs": [
    {
     "data": {
      "text/html": [
       "<html><script type=\"math/tex; mode=display\">\\newcommand{\\Bold}[1]{\\mathbf{#1}}\\left[1.05281950345160, 1.0528195034516041\\right]</script></html>"
      ],
      "text/latex": [
       "$$\\newcommand{\\Bold}[1]{\\mathbf{#1}}\\left[1.05281950345160, 1.0528195034516041\\right]$$"
      ],
      "text/plain": [
       "[1.05281950345160, 1.0528195034516041]"
      ]
     },
     "metadata": {},
     "output_type": "display_data"
    }
   ],
   "source": [
    "r1 = sqrt(P[0]+Q[0]) # Radius of curve <x1,y1> calculated with Sage/Python decimals\n",
    "r2 = np.sqrt(P[1]+Q[1]) # Radius of curve <x2,y2> calculated with Numpy decimals\n",
    "\n",
    "R = [r1, r2]\n",
    "\n",
    "show(R)"
   ]
  },
  {
   "cell_type": "code",
   "execution_count": 30,
   "metadata": {},
   "outputs": [
    {
     "data": {
      "text/html": [
       "<html><script type=\"math/tex; mode=display\">\\newcommand{\\Bold}[1]{\\mathbf{#1}}\\left[-0.814477216699512, -0.8144772166995121\\right]</script></html>"
      ],
      "text/latex": [
       "$$\\newcommand{\\Bold}[1]{\\mathbf{#1}}\\left[-0.814477216699512, -0.8144772166995121\\right]$$"
      ],
      "text/plain": [
       "[-0.814477216699512, -0.8144772166995121]"
      ]
     },
     "metadata": {},
     "output_type": "display_data"
    }
   ],
   "source": [
    "negative_cube_root = real_nth_root(-1*x1,3) # Calculates the real cubic (1/3) root of a negative number\n",
    "# Sage requires this method for odd real roots of negative numbers\n",
    "\n",
    "np_negative_cube_root = np.cbrt(-1*x2.item(0)) # Numpy cubic root of a negative number\n",
    "# x2.item(0) calls the \"first\" item stored in the singleton array x2\n",
    "\n",
    "C = [negative_cube_root, np_negative_cube_root]\n",
    "\n",
    "show(C)"
   ]
  },
  {
   "cell_type": "code",
   "execution_count": 15,
   "metadata": {},
   "outputs": [
    {
     "data": {
      "text/html": [
       "<html><script type=\"math/tex; mode=display\">\\newcommand{\\Bold}[1]{\\mathbf{#1}}\\left[1.41421356237310, 1.4142135623730951\\right]</script></html>"
      ],
      "text/latex": [
       "$$\\newcommand{\\Bold}[1]{\\mathbf{#1}}\\left[1.41421356237310, 1.4142135623730951\\right]$$"
      ],
      "text/plain": [
       "[1.41421356237310, 1.4142135623730951]"
      ]
     },
     "metadata": {},
     "output_type": "display_data"
    }
   ],
   "source": [
    "sqrt2 = sqrt(2).n() # Sage/Python standard square root of 2\n",
    "np_sqrt2 = np.sqrt(2) # Numpy square root of 2\n",
    "\n",
    "S = [sqrt2, np_sqrt2]\n",
    "\n",
    "show(S)"
   ]
  },
  {
   "cell_type": "code",
   "execution_count": 47,
   "metadata": {},
   "outputs": [
    {
     "data": {
      "image/png": "[encoded data removed]",
      "text/plain": [
       "Graphics object consisting of 1 graphics primitive"
      ]
     },
     "execution_count": 47,
     "metadata": {},
     "output_type": "execute_result"
    }
   ],
   "source": [
    "(real_nth_root(28*sin(-1).n(),3))**5\n",
    "\n",
    "parametric_plot((16*real_nth_root(cos(u),6)**5,-28*real_nth_root(sin(u),6)**5),(u,-pi/2,pi/2))"
   ]
  }
 ],
 "metadata": {
  "kernelspec": {
   "display_name": "SageMath 9.3",
   "language": "sage",
   "name": "sagemath"
  },
  "language_info": {
   "codemirror_mode": {
    "name": "ipython",
    "version": 3
   },
   "file_extension": ".py",
   "mimetype": "text/x-python",
   "name": "python",
   "nbconvert_exporter": "python",
   "pygments_lexer": "ipython3",
   "version": "3.9.2"
  }
 },
 "nbformat": 4,
 "nbformat_minor": 4
}
